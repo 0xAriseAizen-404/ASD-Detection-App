{
 "cells": [
  {
   "cell_type": "code",
   "execution_count": 4,
   "metadata": {},
   "outputs": [],
   "source": [
    "import os\n",
    "import numpy as np\n",
    "import librosa\n",
    "import librosa.display\n",
    "import joblib\n",
    "import matplotlib.pyplot as plt\n",
    "import seaborn as sns\n",
    "from sklearn.metrics import accuracy_score, classification_report, confusion_matrix\n",
    "from pydub import AudioSegment\n",
    "import io\n",
    "import warnings"
   ]
  },
  {
   "cell_type": "code",
   "execution_count": 5,
   "metadata": {},
   "outputs": [],
   "source": [
    "# Suppress warnings\n",
    "warnings.filterwarnings('ignore', category=UserWarning)\n",
    "warnings.filterwarnings('ignore', category=FutureWarning)\n"
   ]
  },
  {
   "cell_type": "code",
   "execution_count": 6,
   "metadata": {},
   "outputs": [],
   "source": [
    "# Define folder paths\n",
    "dir_path = \"C:/Users/mahes/OneDrive/Desktop/FinalYearProjects/Projects/ASD-Detection-App/app/\"\n",
    "recordings_folder = os.path.join(dir_path, \"recordings\")\n",
    "features_folder = os.path.join(dir_path, \"features\")\n",
    "models_folder = os.path.join(dir_path, \"models\")"
   ]
  },
  {
   "cell_type": "code",
   "execution_count": 7,
   "metadata": {},
   "outputs": [],
   "source": [
    "# Ensure feature and model directories exist\n",
    "if not os.path.exists(features_folder):\n",
    "    os.makedirs(features_folder)\n",
    "if not os.path.exists(models_folder):\n",
    "    os.makedirs(models_folder)"
   ]
  },
  {
   "cell_type": "code",
   "execution_count": 8,
   "metadata": {},
   "outputs": [],
   "source": [
    "\n",
    "# Define models\n",
    "models = {\n",
    "    'rf.pkl': 'Random Forest',\n",
    "    'ann.pkl': 'Artificial Neural Network',\n",
    "    'svm.pkl': 'Support Vector Machine',\n",
    "    'nb.pkl': 'Naive Bayes'\n",
    "}\n"
   ]
  },
  {
   "cell_type": "code",
   "execution_count": 9,
   "metadata": {},
   "outputs": [],
   "source": [
    "# Function to extract MFCC features\n",
    "def extract_mfcc(audio_data, sample_rate, n_mfcc=20):\n",
    "    mfcc_features = librosa.feature.mfcc(y=audio_data, sr=sample_rate, n_mfcc=n_mfcc)\n",
    "    return mfcc_features"
   ]
  },
  {
   "cell_type": "code",
   "execution_count": 10,
   "metadata": {},
   "outputs": [],
   "source": [
    "# Optional: Extract and store MFCC features\n",
    "# for file in os.listdir(recordings_folder):\n",
    "#     if file.endswith(\".m4a\"):\n",
    "#         audio = AudioSegment.from_file(os.path.join(recordings_folder, file), format='m4a')\n",
    "#         samples = audio.get_array_of_samples()\n",
    "#         y = np.array(samples).astype(np.float32) / (2**15 - 1)\n",
    "#         sr = audio.frame_rate\n",
    "#         mfcc_features = extract_mfcc(y, sr)\n",
    "#         np.save(os.path.join(features_folder, file.replace(\".m4a\", \".npy\")), mfcc_features)\n",
    "\n",
    "# Optional: Train and save models\n",
    "# (Load MFCC features, train models, and save as .pkl files)"
   ]
  },
  {
   "cell_type": "code",
   "execution_count": 11,
   "metadata": {},
   "outputs": [],
   "source": [
    "# Load models\n",
    "loaded_models = {}\n",
    "for model_file, model_name in models.items():\n",
    "    model_path = os.path.join(models_folder, model_file)\n",
    "    if os.path.exists(model_path):\n",
    "        loaded_models[model_name] = joblib.load(model_path)\n",
    "    else:\n",
    "        print(f\"Model {model_name} not found!\")"
   ]
  },
  {
   "cell_type": "code",
   "execution_count": 19,
   "metadata": {},
   "outputs": [],
   "source": [
    "# Predict using the loaded models\n",
    "audio_files = [f for f in os.listdir(recordings_folder) if f.endswith(\".m4a\")]\n",
    "predictions = {}\n",
    "actual_labels = []  # Add actual labels if available\n",
    "sample_audios = np.random.choice(audio_files, size=5, replace=False).tolist()"
   ]
  },
  {
   "cell_type": "code",
   "execution_count": 20,
   "metadata": {},
   "outputs": [],
   "source": [
    "\n",
    "for file in sample_audios:\n",
    "    audio = AudioSegment.from_file(os.path.join(recordings_folder, file), format='m4a')\n",
    "    samples = audio.get_array_of_samples()\n",
    "    y = np.array(samples).astype(np.float32) / (2**15 - 1)\n",
    "    sr = audio.frame_rate\n",
    "    mfcc_features = extract_mfcc(y, sr)\n",
    "    mfcc_avg = np.mean(mfcc_features, axis=1, keepdims=True).reshape(1, -1)\n",
    "    \n",
    "    predictions[file] = {}\n",
    "    for model_name, model in loaded_models.items():\n",
    "        pred = model.predict(mfcc_avg)\n",
    "        predictions[file][model_name] = pred[0]"
   ]
  },
  {
   "cell_type": "code",
   "execution_count": 21,
   "metadata": {},
   "outputs": [
    {
     "name": "stdout",
     "output_type": "stream",
     "text": [
      "Results for autistic_059.m4a:\n",
      "  Random Forest: Non-Autistic\n",
      "  Artificial Neural Network: Non-Autistic\n",
      "  Support Vector Machine: Autistic\n",
      "  Naive Bayes: Non-Autistic\n",
      "Results for autistic_045.m4a:\n",
      "  Random Forest: Autistic\n",
      "  Artificial Neural Network: Autistic\n",
      "  Support Vector Machine: Autistic\n",
      "  Naive Bayes: Autistic\n",
      "Results for autistic_066.m4a:\n",
      "  Random Forest: Non-Autistic\n",
      "  Artificial Neural Network: Non-Autistic\n",
      "  Support Vector Machine: Autistic\n",
      "  Naive Bayes: Non-Autistic\n",
      "Results for autistic_044.m4a:\n",
      "  Random Forest: Autistic\n",
      "  Artificial Neural Network: Autistic\n",
      "  Support Vector Machine: Autistic\n",
      "  Naive Bayes: Autistic\n",
      "Results for non_autistic_030.m4a:\n",
      "  Random Forest: Non-Autistic\n",
      "  Artificial Neural Network: Non-Autistic\n",
      "  Support Vector Machine: Autistic\n",
      "  Naive Bayes: Autistic\n"
     ]
    }
   ],
   "source": [
    "# Display results\n",
    "for file, preds in predictions.items():\n",
    "    print(f\"Results for {file}:\")\n",
    "    for model_name, pred in preds.items():\n",
    "        print(f\"  {model_name}: {'Autistic' if pred == 1 else 'Non-Autistic'}\")"
   ]
  },
  {
   "cell_type": "code",
   "execution_count": 22,
   "metadata": {},
   "outputs": [
    {
     "name": "stdout",
     "output_type": "stream",
     "text": [
      "Results for autistic_059.m4a:\n",
      "  Random Forest: Non-Autistic\n",
      "  Artificial Neural Network: Non-Autistic\n",
      "  Support Vector Machine: Autistic\n",
      "  Naive Bayes: Non-Autistic\n",
      "Results for autistic_045.m4a:\n",
      "  Random Forest: Autistic\n",
      "  Artificial Neural Network: Autistic\n",
      "  Support Vector Machine: Autistic\n",
      "  Naive Bayes: Autistic\n",
      "Results for autistic_066.m4a:\n",
      "  Random Forest: Non-Autistic\n",
      "  Artificial Neural Network: Non-Autistic\n",
      "  Support Vector Machine: Autistic\n",
      "  Naive Bayes: Non-Autistic\n",
      "Results for autistic_044.m4a:\n",
      "  Random Forest: Autistic\n",
      "  Artificial Neural Network: Autistic\n",
      "  Support Vector Machine: Autistic\n",
      "  Naive Bayes: Autistic\n",
      "Results for non_autistic_030.m4a:\n",
      "  Random Forest: Non-Autistic\n",
      "  Artificial Neural Network: Non-Autistic\n",
      "  Support Vector Machine: Autistic\n",
      "  Naive Bayes: Autistic\n"
     ]
    }
   ],
   "source": [
    "# Display results\n",
    "for file, preds in predictions.items():\n",
    "    print(f\"Results for {file}:\")\n",
    "    for model_name, pred in preds.items():\n",
    "        print(f\"  {model_name}: {'Autistic' if pred == 1 else 'Non-Autistic'}\")"
   ]
  },
  {
   "cell_type": "code",
   "execution_count": 25,
   "metadata": {},
   "outputs": [],
   "source": [
    "# # Performance Metrics (if actual labels are available)\n",
    "# # accuracy, confusion matrix, classification report\n",
    "# if actual_labels:\n",
    "#     for model_name in loaded_models.keys():\n",
    "#         y_pred = [predictions[file][model_name] for file in audio_files]\n",
    "#         print(f\"Performance of {model_name}:\")\n",
    "#         print(\"Accuracy:\", accuracy_score(actual_labels, y_pred))\n",
    "#         print(classification_report(actual_labels, y_pred))\n",
    "#         cm = confusion_matrix(actual_labels, y_pred)\n",
    "#         sns.heatmap(cm, annot=True, fmt='d', cmap='Blues')\n",
    "#         plt.title(f'Confusion Matrix for {model_name}')\n",
    "#         plt.xlabel('Predicted')\n",
    "#         plt.ylabel('Actual')\n",
    "#         plt.show()\n"
   ]
  },
  {
   "cell_type": "code",
   "execution_count": null,
   "metadata": {},
   "outputs": [],
   "source": []
  }
 ],
 "metadata": {
  "kernelspec": {
   "display_name": "venv",
   "language": "python",
   "name": "python3"
  },
  "language_info": {
   "codemirror_mode": {
    "name": "ipython",
    "version": 3
   },
   "file_extension": ".py",
   "mimetype": "text/x-python",
   "name": "python",
   "nbconvert_exporter": "python",
   "pygments_lexer": "ipython3",
   "version": "3.10.10"
  }
 },
 "nbformat": 4,
 "nbformat_minor": 2
}
