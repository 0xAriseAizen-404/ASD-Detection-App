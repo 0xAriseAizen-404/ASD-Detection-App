{
 "cells": [
  {
   "cell_type": "markdown",
   "metadata": {},
   "source": [
    "# Imports and Setup"
   ]
  },
  {
   "cell_type": "code",
   "execution_count": 28,
   "metadata": {},
   "outputs": [
    {
     "name": "stdout",
     "output_type": "stream",
     "text": [
      "Libraries imported and environment set up!\n"
     ]
    }
   ],
   "source": [
    "# Import necessary libraries\n",
    "import pandas as pd\n",
    "import numpy as np\n",
    "import matplotlib.pyplot as plt\n",
    "import seaborn as sns\n",
    "from sklearn.model_selection import train_test_split\n",
    "from sklearn.metrics import accuracy_score, precision_score, recall_score, f1_score, confusion_matrix\n",
    "import xgboost as xgb\n",
    "import os\n",
    "\n",
    "# Set random seed for reproducibility\n",
    "np.random.seed(42)\n",
    "\n",
    "print(\"Libraries imported and environment set up!\")"
   ]
  },
  {
   "cell_type": "markdown",
   "metadata": {},
   "source": [
    "# Dataset Loading"
   ]
  },
  {
   "cell_type": "code",
   "execution_count": 30,
   "metadata": {},
   "outputs": [
    {
     "name": "stdout",
     "output_type": "stream",
     "text": [
      "Loading dataset...\n",
      "Dataset loaded successfully!\n",
      "\n",
      "Dataset Preview:\n"
     ]
    },
    {
     "data": {
      "text/html": [
       "<div>\n",
       "<style scoped>\n",
       "    .dataframe tbody tr th:only-of-type {\n",
       "        vertical-align: middle;\n",
       "    }\n",
       "\n",
       "    .dataframe tbody tr th {\n",
       "        vertical-align: top;\n",
       "    }\n",
       "\n",
       "    .dataframe thead th {\n",
       "        text-align: right;\n",
       "    }\n",
       "</style>\n",
       "<table border=\"1\" class=\"dataframe\">\n",
       "  <thead>\n",
       "    <tr style=\"text-align: right;\">\n",
       "      <th></th>\n",
       "      <th>Case_No</th>\n",
       "      <th>A1</th>\n",
       "      <th>A2</th>\n",
       "      <th>A3</th>\n",
       "      <th>A4</th>\n",
       "      <th>A5</th>\n",
       "      <th>A6</th>\n",
       "      <th>A7</th>\n",
       "      <th>A8</th>\n",
       "      <th>A9</th>\n",
       "      <th>A10</th>\n",
       "      <th>Age_Mons</th>\n",
       "      <th>Qchat-10-Score</th>\n",
       "      <th>Sex</th>\n",
       "      <th>Ethnicity</th>\n",
       "      <th>Jaundice</th>\n",
       "      <th>Family_mem_with_ASD</th>\n",
       "      <th>Who completed the test</th>\n",
       "      <th>Class/ASD Traits</th>\n",
       "    </tr>\n",
       "  </thead>\n",
       "  <tbody>\n",
       "    <tr>\n",
       "      <th>0</th>\n",
       "      <td>1</td>\n",
       "      <td>0</td>\n",
       "      <td>0</td>\n",
       "      <td>0</td>\n",
       "      <td>0</td>\n",
       "      <td>0</td>\n",
       "      <td>0</td>\n",
       "      <td>1</td>\n",
       "      <td>1</td>\n",
       "      <td>0</td>\n",
       "      <td>1</td>\n",
       "      <td>28</td>\n",
       "      <td>3</td>\n",
       "      <td>f</td>\n",
       "      <td>middle eastern</td>\n",
       "      <td>yes</td>\n",
       "      <td>no</td>\n",
       "      <td>family member</td>\n",
       "      <td>No</td>\n",
       "    </tr>\n",
       "    <tr>\n",
       "      <th>1</th>\n",
       "      <td>2</td>\n",
       "      <td>1</td>\n",
       "      <td>1</td>\n",
       "      <td>0</td>\n",
       "      <td>0</td>\n",
       "      <td>0</td>\n",
       "      <td>1</td>\n",
       "      <td>1</td>\n",
       "      <td>0</td>\n",
       "      <td>0</td>\n",
       "      <td>0</td>\n",
       "      <td>36</td>\n",
       "      <td>4</td>\n",
       "      <td>m</td>\n",
       "      <td>White European</td>\n",
       "      <td>yes</td>\n",
       "      <td>no</td>\n",
       "      <td>family member</td>\n",
       "      <td>Yes</td>\n",
       "    </tr>\n",
       "    <tr>\n",
       "      <th>2</th>\n",
       "      <td>3</td>\n",
       "      <td>1</td>\n",
       "      <td>0</td>\n",
       "      <td>0</td>\n",
       "      <td>0</td>\n",
       "      <td>0</td>\n",
       "      <td>0</td>\n",
       "      <td>1</td>\n",
       "      <td>1</td>\n",
       "      <td>0</td>\n",
       "      <td>1</td>\n",
       "      <td>36</td>\n",
       "      <td>4</td>\n",
       "      <td>m</td>\n",
       "      <td>middle eastern</td>\n",
       "      <td>yes</td>\n",
       "      <td>no</td>\n",
       "      <td>family member</td>\n",
       "      <td>Yes</td>\n",
       "    </tr>\n",
       "    <tr>\n",
       "      <th>3</th>\n",
       "      <td>4</td>\n",
       "      <td>1</td>\n",
       "      <td>1</td>\n",
       "      <td>1</td>\n",
       "      <td>1</td>\n",
       "      <td>1</td>\n",
       "      <td>1</td>\n",
       "      <td>1</td>\n",
       "      <td>1</td>\n",
       "      <td>1</td>\n",
       "      <td>1</td>\n",
       "      <td>24</td>\n",
       "      <td>10</td>\n",
       "      <td>m</td>\n",
       "      <td>Hispanic</td>\n",
       "      <td>no</td>\n",
       "      <td>no</td>\n",
       "      <td>family member</td>\n",
       "      <td>Yes</td>\n",
       "    </tr>\n",
       "    <tr>\n",
       "      <th>4</th>\n",
       "      <td>5</td>\n",
       "      <td>1</td>\n",
       "      <td>1</td>\n",
       "      <td>0</td>\n",
       "      <td>1</td>\n",
       "      <td>1</td>\n",
       "      <td>1</td>\n",
       "      <td>1</td>\n",
       "      <td>1</td>\n",
       "      <td>1</td>\n",
       "      <td>1</td>\n",
       "      <td>20</td>\n",
       "      <td>9</td>\n",
       "      <td>f</td>\n",
       "      <td>White European</td>\n",
       "      <td>no</td>\n",
       "      <td>yes</td>\n",
       "      <td>family member</td>\n",
       "      <td>Yes</td>\n",
       "    </tr>\n",
       "  </tbody>\n",
       "</table>\n",
       "</div>"
      ],
      "text/plain": [
       "   Case_No  A1  A2  A3  A4  A5  A6  A7  A8  A9  A10  Age_Mons  Qchat-10-Score  \\\n",
       "0        1   0   0   0   0   0   0   1   1   0    1        28               3   \n",
       "1        2   1   1   0   0   0   1   1   0   0    0        36               4   \n",
       "2        3   1   0   0   0   0   0   1   1   0    1        36               4   \n",
       "3        4   1   1   1   1   1   1   1   1   1    1        24              10   \n",
       "4        5   1   1   0   1   1   1   1   1   1    1        20               9   \n",
       "\n",
       "  Sex       Ethnicity Jaundice Family_mem_with_ASD Who completed the test  \\\n",
       "0   f  middle eastern      yes                  no          family member   \n",
       "1   m  White European      yes                  no          family member   \n",
       "2   m  middle eastern      yes                  no          family member   \n",
       "3   m        Hispanic       no                  no          family member   \n",
       "4   f  White European       no                 yes          family member   \n",
       "\n",
       "  Class/ASD Traits   \n",
       "0                No  \n",
       "1               Yes  \n",
       "2               Yes  \n",
       "3               Yes  \n",
       "4               Yes  "
      ]
     },
     "metadata": {},
     "output_type": "display_data"
    }
   ],
   "source": [
    "# Load dataset from app/data/dataset-asd.csv\n",
    "print(\"Loading dataset...\")\n",
    "dir_path = 'C:/Users\\mahes/OneDrive/Desktop/FinalYearProjects/Projects/ASD-Detection-App/app/'\n",
    "data_path = dir_path + \"data/dataset-asd.csv\"\n",
    "if not os.path.exists(data_path):\n",
    "    raise FileNotFoundError(f\"Dataset not found at {data_path}. Please ensure it's in app/data/.\")\n",
    "df = pd.read_csv(data_path)\n",
    "print(\"Dataset loaded successfully!\")\n",
    "print(\"\\nDataset Preview:\")\n",
    "display(df.head())"
   ]
  },
  {
   "cell_type": "markdown",
   "metadata": {},
   "source": [
    "# Data Preprocessing"
   ]
  },
  {
   "cell_type": "code",
   "execution_count": 31,
   "metadata": {},
   "outputs": [
    {
     "name": "stdout",
     "output_type": "stream",
     "text": [
      "Preprocessing data...\n",
      "Data split: 80% train, 20% test\n",
      "Training samples: 844, Testing samples: 211\n"
     ]
    },
    {
     "name": "stderr",
     "output_type": "stream",
     "text": [
      "C:\\Users\\mahes\\AppData\\Local\\Temp\\ipykernel_15552\\3761156223.py:17: FutureWarning: A value is trying to be set on a copy of a DataFrame or Series through chained assignment using an inplace method.\n",
      "The behavior will change in pandas 3.0. This inplace method will never work because the intermediate object on which we are setting values always behaves as a copy.\n",
      "\n",
      "For example, when doing 'df[col].method(value, inplace=True)', try using 'df.method({col: value}, inplace=True)' or df[col] = df[col].method(value) instead, to perform the operation inplace on the original object.\n",
      "\n",
      "\n",
      "  df[column].fillna(df[column].mean(), inplace=True)\n",
      "C:\\Users\\mahes\\AppData\\Local\\Temp\\ipykernel_15552\\3761156223.py:19: FutureWarning: A value is trying to be set on a copy of a DataFrame or Series through chained assignment using an inplace method.\n",
      "The behavior will change in pandas 3.0. This inplace method will never work because the intermediate object on which we are setting values always behaves as a copy.\n",
      "\n",
      "For example, when doing 'df[col].method(value, inplace=True)', try using 'df.method({col: value}, inplace=True)' or df[col] = df[col].method(value) instead, to perform the operation inplace on the original object.\n",
      "\n",
      "\n",
      "  df[column].fillna(df[column].mode()[0], inplace=True)\n"
     ]
    }
   ],
   "source": [
    "# Preprocessing the dataset\n",
    "print(\"Preprocessing data...\")\n",
    "\n",
    "# Encode categorical variables (based on quiz.py mappings)\n",
    "df['Sex'] = df['Sex'].map({'m': 1, 'f': 0})\n",
    "df['Jaundice'] = df['Jaundice'].map({'yes': 1, 'no': 0})\n",
    "df['Family_mem_with_ASD'] = df['Family_mem_with_ASD'].map({'yes': 1, 'no': 0})\n",
    "ethnicity_map = {\n",
    "    'asian': 0, 'black': 1, 'hispanic': 2, 'latino': 3, 'middle eastern': 4, 'mixed': 5, \n",
    "    'native indian': 6, 'pacifica': 7, 'south asian': 8, 'white european': 9, 'unknown': 10\n",
    "}\n",
    "df['Ethnicity'] = df['Ethnicity'].str.lower().map(ethnicity_map).fillna(10)\n",
    "\n",
    "# Handle missing values\n",
    "for column in df.columns:\n",
    "    if df[column].dtype in ['int64', 'float64']:\n",
    "        df[column].fillna(df[column].mean(), inplace=True)\n",
    "    else:\n",
    "        df[column].fillna(df[column].mode()[0], inplace=True)\n",
    "\n",
    "# Define features and target\n",
    "features = ['A1', 'A2', 'A3', 'A4', 'A5', 'A6', 'A7', 'A8', 'A9', 'A10', 'Age_Mons', \n",
    "            'Qchat-10-Score', 'Sex', 'Jaundice', 'Family_mem_with_ASD', 'Ethnicity']\n",
    "X = df[features]\n",
    "y = df['Class/ASD Traits '].map({'Yes': 1, 'No': 0})\n",
    "\n",
    "# Split into training and testing sets\n",
    "X_train, X_test, y_train, y_test = train_test_split(X, y, test_size=0.2, random_state=42)\n",
    "print(\"Data split: 80% train, 20% test\")\n",
    "print(f\"Training samples: {X_train.shape[0]}, Testing samples: {X_test.shape[0]}\")"
   ]
  },
  {
   "cell_type": "markdown",
   "metadata": {},
   "source": [
    "# Visualization - Bar Plot"
   ]
  },
  {
   "cell_type": "code",
   "execution_count": 48,
   "metadata": {},
   "outputs": [
    {
     "name": "stdout",
     "output_type": "stream",
     "text": [
      "Generating bar plot...\n",
      "Bar plot saved as 'app/asd_distribution.png'\n"
     ]
    },
    {
     "data": {
      "image/png": "[encoded data removed]",
      "text/plain": [
       "<Figure size 800x600 with 1 Axes>"
      ]
     },
     "metadata": {},
     "output_type": "display_data"
    }
   ],
   "source": [
    "# Visualize ASD vs Non-ASD distribution\n",
    "print(\"Generating bar plot...\")\n",
    "plt.figure(figsize=(8, 6))\n",
    "sns.countplot(x='Class/ASD Traits ', data=df)\n",
    "plt.title(\"Distribution of ASD vs Non-ASD\")\n",
    "plt.xlabel(\"Class (No: Non-Autistic, Yes: Autistic)\")\n",
    "plt.ylabel(\"Count\")\n",
    "plt.xticks([0, 1], ['Non-Autistic', 'Autistic'])\n",
    "plt.tight_layout()\n",
    "# plt.savefig(\"app/asd_distribution.png\")\n",
    "print(\"Bar plot saved as 'app/asd_distribution.png'\")\n",
    "plt.show()"
   ]
  },
  {
   "cell_type": "markdown",
   "metadata": {},
   "source": [
    "# Train XGBoost Model"
   ]
  },
  {
   "cell_type": "code",
   "execution_count": 49,
   "metadata": {},
   "outputs": [
    {
     "name": "stdout",
     "output_type": "stream",
     "text": [
      "Initializing and training XGBoost model...\n",
      "Model training complete!\n"
     ]
    },
    {
     "name": "stderr",
     "output_type": "stream",
     "text": [
      "c:\\Users\\mahes\\OneDrive\\Desktop\\FinalYearProjects\\Projects\\ASD-Detection-App\\venv\\lib\\site-packages\\xgboost\\core.py:158: UserWarning: [23:15:23] WARNING: C:\\buildkite-agent\\builds\\buildkite-windows-cpu-autoscaling-group-i-08cbc0333d8d4aae1-1\\xgboost\\xgboost-ci-windows\\src\\learner.cc:740: \n",
      "Parameters: { \"use_label_encoder\" } are not used.\n",
      "\n",
      "  warnings.warn(smsg, UserWarning)\n"
     ]
    }
   ],
   "source": [
    "# Initialize and train XGBoost model\n",
    "print(\"Initializing and training XGBoost model...\")\n",
    "xgb_model = xgb.XGBClassifier(\n",
    "    objective='binary:logistic',\n",
    "    eval_metric='logloss',\n",
    "    use_label_encoder=False,\n",
    "    random_state=42\n",
    ")\n",
    "xgb_model.fit(X_train, y_train)\n",
    "print(\"Model training complete!\")"
   ]
  },
  {
   "cell_type": "markdown",
   "metadata": {},
   "source": [
    "# Simulate Quiz Responses and Predict"
   ]
  },
  {
   "cell_type": "code",
   "execution_count": 50,
   "metadata": {},
   "outputs": [
    {
     "name": "stdout",
     "output_type": "stream",
     "text": [
      "Simulating quiz responses for prediction...\n",
      "Sample Prediction: Autistic (Probability: 1.00)\n",
      "Sample Prediction 2: Non-Autistic (Probability: 0.00)\n"
     ]
    }
   ],
   "source": [
    "# Simulate user quiz responses (mimicking quiz.py inputs)\n",
    "print(\"Simulating quiz responses for prediction...\")\n",
    "user_answers = [\n",
    "    \"Sometimes\", \"Rarely\", \"Never\", \"Usually\", \"Always\",  # A1-A5\n",
    "    \"Sometimes\", \"Rarely\", \"Never\", \"Usually\",           # A6-A9\n",
    "    \"Delayed and unclear\",                              # A10\n",
    "    \"3\",                                               # Age in years\n",
    "    \"Male\",                                            # Gender\n",
    "    \"Yes\",                                             # Jaundice\n",
    "    \"No\",                                              # Family history\n",
    "    \"White European\",                                  # Ethnicity\n",
    "    \"Mother\"                                           # Who completed (not used in prediction)\n",
    "]\n",
    "\n",
    "# Map answers to numerical values (from predict_autism function)\n",
    "answers = {f'A{i+1}': [\"Always\", \"Usually\", \"Sometimes\", \"Rarely\", \"Never\"].index(ans) \n",
    "           for i, ans in enumerate(user_answers[:9])}\n",
    "answers['A10'] = [\"Clear and early\", \"Delayed but clear\", \"Delayed and unclear\", \"Still not speaking\"].index(user_answers[9])\n",
    "answers['Age_Mons'] = int(user_answers[10]) * 12  # Convert years to months\n",
    "answers['Qchat-10-Score'] = sum(answers[f'A{i+1}'] for i in range(9)) + answers['A10']\n",
    "answers['Sex'] = 1 if user_answers[11].lower() == \"male\" else 0\n",
    "answers['Jaundice'] = 1 if user_answers[12].lower() == \"yes\" else 0\n",
    "answers['Family_mem_with_ASD'] = 1 if user_answers[13].lower() == \"yes\" else 0\n",
    "answers['Ethnicity'] = ethnicity_map.get(user_answers[14].lower(), 10)\n",
    "\n",
    "# Prepare input DataFrame\n",
    "input_data = pd.DataFrame([answers])\n",
    "\n",
    "# Predict\n",
    "prediction = xgb_model.predict(input_data)[0]\n",
    "probability = xgb_model.predict_proba(input_data)[0][1]\n",
    "print(f\"Sample Prediction: {'Autistic' if prediction == 1 else 'Non-Autistic'} (Probability: {probability:.2f})\")\n",
    "\n",
    "# Test with a second example\n",
    "user_answers_2 = [\n",
    "    \"Always\", \"Always\", \"Always\", \"Always\", \"Always\",  # A1-A5\n",
    "    \"Always\", \"Always\", \"Always\", \"Always\",           # A6-A9\n",
    "    \"Still not speaking\",                             # A10\n",
    "    \"2\",                                              # Age in years\n",
    "    \"Female\",                                         # Gender\n",
    "    \"No\",                                             # Jaundice\n",
    "    \"Yes\",                                            # Family history\n",
    "    \"Asian\",                                          # Ethnicity\n",
    "    \"Family Member\"                                   # Who completed\n",
    "]\n",
    "\n",
    "answers_2 = {f'A{i+1}': [\"Always\", \"Usually\", \"Sometimes\", \"Rarely\", \"Never\"].index(ans) \n",
    "             for i, ans in enumerate(user_answers_2[:9])}\n",
    "answers_2['A10'] = [\"Clear and early\", \"Delayed but clear\", \"Delayed and unclear\", \"Still not speaking\"].index(user_answers_2[9])\n",
    "answers_2['Age_Mons'] = int(user_answers_2[10]) * 12\n",
    "answers_2['Qchat-10-Score'] = sum(answers_2[f'A{i+1}'] for i in range(9)) + answers_2['A10']\n",
    "answers_2['Sex'] = 1 if user_answers_2[11].lower() == \"male\" else 0\n",
    "answers_2['Jaundice'] = 1 if user_answers_2[12].lower() == \"yes\" else 0\n",
    "answers_2['Family_mem_with_ASD'] = 1 if user_answers_2[13].lower() == \"yes\" else 0\n",
    "answers_2['Ethnicity'] = ethnicity_map.get(user_answers_2[14].lower(), 10)\n",
    "\n",
    "input_data_2 = pd.DataFrame([answers_2])\n",
    "prediction_2 = xgb_model.predict(input_data_2)[0]\n",
    "probability_2 = xgb_model.predict_proba(input_data_2)[0][1]\n",
    "print(f\"Sample Prediction 2: {'Autistic' if prediction_2 == 1 else 'Non-Autistic'} (Probability: {probability_2:.2f})\")"
   ]
  },
  {
   "cell_type": "markdown",
   "metadata": {},
   "source": [
    "# Performance Metrics"
   ]
  },
  {
   "cell_type": "code",
   "execution_count": 51,
   "metadata": {},
   "outputs": [
    {
     "name": "stdout",
     "output_type": "stream",
     "text": [
      "Evaluating model performance...\n",
      "Performance Metrics:\n",
      "Accuracy: 1.00\n",
      "Precision: 1.00\n",
      "Recall: 1.00\n",
      "F1-Score: 1.00\n"
     ]
    },
    {
     "data": {
      "image/png": "[encoded data removed]",
      "text/plain": [
       "<Figure size 600x500 with 2 Axes>"
      ]
     },
     "metadata": {},
     "output_type": "display_data"
    }
   ],
   "source": [
    "# Evaluate model performance on test set\n",
    "print(\"Evaluating model performance...\")\n",
    "y_pred = xgb_model.predict(X_test)\n",
    "\n",
    "# Calculate metrics\n",
    "accuracy = accuracy_score(y_test, y_pred)\n",
    "precision = precision_score(y_test, y_pred)\n",
    "recall = recall_score(y_test, y_pred)\n",
    "f1 = f1_score(y_test, y_pred)\n",
    "\n",
    "# Display metrics\n",
    "print(\"Performance Metrics:\")\n",
    "print(f\"Accuracy: {accuracy:.2f}\")\n",
    "print(f\"Precision: {precision:.2f}\")\n",
    "print(f\"Recall: {recall:.2f}\")\n",
    "print(f\"F1-Score: {f1:.2f}\")\n",
    "\n",
    "# Confusion Matrix\n",
    "cm = confusion_matrix(y_test, y_pred)\n",
    "plt.figure(figsize=(6, 5))\n",
    "sns.heatmap(cm, annot=True, fmt='d', cmap='Blues', xticklabels=['Non-Autistic', 'Autistic'], yticklabels=['Non-Autistic', 'Autistic'])\n",
    "plt.title(\"Confusion Matrix\")\n",
    "plt.xlabel(\"Predicted\")\n",
    "plt.ylabel(\"Actual\")\n",
    "plt.tight_layout()\n",
    "# plt.savefig(\"app/confusion_matrix.png\")\n",
    "# print(\"Confusion matrix saved as 'app/confusion_matrix.png'\")\n",
    "plt.show()"
   ]
  },
  {
   "cell_type": "code",
   "execution_count": 46,
   "metadata": {},
   "outputs": [
    {
     "name": "stdout",
     "output_type": "stream",
     "text": [
      "Saving the trained model...\n",
      "Model saved to C:/Users\\mahes/OneDrive/Desktop/FinalYearProjects/Projects/ASD-Detection-App/app/models/xgb_model.pkl\n"
     ]
    },
    {
     "name": "stderr",
     "output_type": "stream",
     "text": [
      "c:\\Users\\mahes\\OneDrive\\Desktop\\FinalYearProjects\\Projects\\ASD-Detection-App\\venv\\lib\\site-packages\\xgboost\\core.py:158: UserWarning: [21:44:10] WARNING: C:\\buildkite-agent\\builds\\buildkite-windows-cpu-autoscaling-group-i-08cbc0333d8d4aae1-1\\xgboost\\xgboost-ci-windows\\src\\c_api\\c_api.cc:1374: Saving model in the UBJSON format as default.  You can use file extension: `json`, `ubj` or `deprecated` to choose between formats.\n",
      "  warnings.warn(smsg, UserWarning)\n"
     ]
    }
   ],
   "source": [
    "# Ensure models directory exists and save the trained model\n",
    "print(\"Saving the trained model...\")\n",
    "model_dir = dir_path + \"models/\"\n",
    "os.makedirs(model_dir, exist_ok=True)  # Create directory if it doesn't exist\n",
    "model_path = os.path.join(model_dir, \"xgb_model.pkl\")\n",
    "xgb_model.save_model(model_path)\n",
    "print(f\"Model saved to {model_path}\")"
   ]
  },
  {
   "cell_type": "code",
   "execution_count": null,
   "metadata": {},
   "outputs": [],
   "source": []
  }
 ],
 "metadata": {
  "kernelspec": {
   "display_name": "venv",
   "language": "python",
   "name": "python3"
  },
  "language_info": {
   "codemirror_mode": {
    "name": "ipython",
    "version": 3
   },
   "file_extension": ".py",
   "mimetype": "text/x-python",
   "name": "python",
   "nbconvert_exporter": "python",
   "pygments_lexer": "ipython3",
   "version": "3.10.10"
  }
 },
 "nbformat": 4,
 "nbformat_minor": 2
}
